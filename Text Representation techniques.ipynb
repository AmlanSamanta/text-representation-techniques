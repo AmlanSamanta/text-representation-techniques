{
 "cells": [
  {
   "cell_type": "code",
   "execution_count": 1,
   "id": "c132e676-0d97-4638-a3d6-a42df5321125",
   "metadata": {},
   "outputs": [
    {
     "data": {
      "text/plain": [
       "\"\\nnltk.download('punkt')\\nnltk.download('wordnet')\\nnltk.download('stopwords')\\n\""
      ]
     },
     "execution_count": 1,
     "metadata": {},
     "output_type": "execute_result"
    }
   ],
   "source": [
    "'''\n",
    "!python -m spacy download en\n",
    "!python -m spacy download en_vectors_web_lg\n",
    "!pip install nltk\n",
    "'''\n",
    "import nltk\n",
    "'''\n",
    "nltk.download('punkt')\n",
    "nltk.download('wordnet')\n",
    "nltk.download('stopwords')\n",
    "'''\n"
   ]
  },
  {
   "cell_type": "code",
   "execution_count": 2,
   "id": "6252037a-f219-4fd9-86ff-8b2675b157ec",
   "metadata": {},
   "outputs": [],
   "source": [
    "#!pip install spacy"
   ]
  },
  {
   "cell_type": "code",
   "execution_count": 3,
   "id": "0d1764e1-7e75-4820-a353-78069a467dd2",
   "metadata": {},
   "outputs": [],
   "source": [
    "#!python -m spacy download en\n",
    "#!python -m spacy download en_vectors_web_lg"
   ]
  },
  {
   "cell_type": "code",
   "execution_count": 4,
   "id": "54f3c0c9-db01-4c38-9d51-881fd5216c19",
   "metadata": {},
   "outputs": [
    {
     "data": {
      "text/html": [
       "<div>\n",
       "<style scoped>\n",
       "    .dataframe tbody tr th:only-of-type {\n",
       "        vertical-align: middle;\n",
       "    }\n",
       "\n",
       "    .dataframe tbody tr th {\n",
       "        vertical-align: top;\n",
       "    }\n",
       "\n",
       "    .dataframe thead th {\n",
       "        text-align: right;\n",
       "    }\n",
       "</style>\n",
       "<table border=\"1\" class=\"dataframe\">\n",
       "  <thead>\n",
       "    <tr style=\"text-align: right;\">\n",
       "      <th></th>\n",
       "      <th>id</th>\n",
       "      <th>url</th>\n",
       "      <th>title</th>\n",
       "      <th>subtitle</th>\n",
       "      <th>image</th>\n",
       "      <th>claps</th>\n",
       "      <th>responses</th>\n",
       "      <th>reading_time</th>\n",
       "      <th>publication</th>\n",
       "      <th>date</th>\n",
       "    </tr>\n",
       "  </thead>\n",
       "  <tbody>\n",
       "    <tr>\n",
       "      <th>0</th>\n",
       "      <td>1</td>\n",
       "      <td>https://towardsdatascience.com/a-beginners-gui...</td>\n",
       "      <td>A Beginner’s Guide to Word Embedding with Gens...</td>\n",
       "      <td>NaN</td>\n",
       "      <td>1.png</td>\n",
       "      <td>850</td>\n",
       "      <td>8</td>\n",
       "      <td>8</td>\n",
       "      <td>Towards Data Science</td>\n",
       "      <td>2019-05-30</td>\n",
       "    </tr>\n",
       "    <tr>\n",
       "      <th>1</th>\n",
       "      <td>2</td>\n",
       "      <td>https://towardsdatascience.com/hands-on-graph-...</td>\n",
       "      <td>Hands-on Graph Neural Networks with PyTorch &amp; ...</td>\n",
       "      <td>NaN</td>\n",
       "      <td>2.png</td>\n",
       "      <td>1100</td>\n",
       "      <td>11</td>\n",
       "      <td>9</td>\n",
       "      <td>Towards Data Science</td>\n",
       "      <td>2019-05-30</td>\n",
       "    </tr>\n",
       "    <tr>\n",
       "      <th>2</th>\n",
       "      <td>3</td>\n",
       "      <td>https://towardsdatascience.com/how-to-use-ggpl...</td>\n",
       "      <td>How to Use ggplot2 in Python</td>\n",
       "      <td>A Grammar of Graphics for Python</td>\n",
       "      <td>3.png</td>\n",
       "      <td>767</td>\n",
       "      <td>1</td>\n",
       "      <td>5</td>\n",
       "      <td>Towards Data Science</td>\n",
       "      <td>2019-05-30</td>\n",
       "    </tr>\n",
       "    <tr>\n",
       "      <th>3</th>\n",
       "      <td>4</td>\n",
       "      <td>https://towardsdatascience.com/databricks-how-...</td>\n",
       "      <td>Databricks: How to Save Files in CSV on Your L...</td>\n",
       "      <td>When I work on Python projects dealing…</td>\n",
       "      <td>4.jpeg</td>\n",
       "      <td>354</td>\n",
       "      <td>0</td>\n",
       "      <td>4</td>\n",
       "      <td>Towards Data Science</td>\n",
       "      <td>2019-05-30</td>\n",
       "    </tr>\n",
       "    <tr>\n",
       "      <th>4</th>\n",
       "      <td>5</td>\n",
       "      <td>https://towardsdatascience.com/a-step-by-step-...</td>\n",
       "      <td>A Step-by-Step Implementation of Gradient Desc...</td>\n",
       "      <td>One example of building neural…</td>\n",
       "      <td>5.jpeg</td>\n",
       "      <td>211</td>\n",
       "      <td>3</td>\n",
       "      <td>4</td>\n",
       "      <td>Towards Data Science</td>\n",
       "      <td>2019-05-30</td>\n",
       "    </tr>\n",
       "    <tr>\n",
       "      <th>5</th>\n",
       "      <td>6</td>\n",
       "      <td>https://towardsdatascience.com/an-easy-introdu...</td>\n",
       "      <td>An Easy Introduction to SQL for Data Scientists</td>\n",
       "      <td>NaN</td>\n",
       "      <td>6.jpeg</td>\n",
       "      <td>563</td>\n",
       "      <td>1</td>\n",
       "      <td>8</td>\n",
       "      <td>Towards Data Science</td>\n",
       "      <td>2019-05-30</td>\n",
       "    </tr>\n",
       "    <tr>\n",
       "      <th>6</th>\n",
       "      <td>7</td>\n",
       "      <td>https://towardsdatascience.com/hypothesis-test...</td>\n",
       "      <td>Hypothesis testing visualized</td>\n",
       "      <td>Literally seeing how stat tests work</td>\n",
       "      <td>7.gif</td>\n",
       "      <td>276</td>\n",
       "      <td>1</td>\n",
       "      <td>12</td>\n",
       "      <td>Towards Data Science</td>\n",
       "      <td>2019-05-30</td>\n",
       "    </tr>\n",
       "    <tr>\n",
       "      <th>7</th>\n",
       "      <td>8</td>\n",
       "      <td>https://towardsdatascience.com/introduction-to...</td>\n",
       "      <td>Introduction to Latent Matrix Factorization Re...</td>\n",
       "      <td>NaN</td>\n",
       "      <td>8.png</td>\n",
       "      <td>126</td>\n",
       "      <td>2</td>\n",
       "      <td>5</td>\n",
       "      <td>Towards Data Science</td>\n",
       "      <td>2019-05-30</td>\n",
       "    </tr>\n",
       "    <tr>\n",
       "      <th>8</th>\n",
       "      <td>9</td>\n",
       "      <td>https://towardsdatascience.com/which-2020-cand...</td>\n",
       "      <td>Which 2020 Candidate is the Best at Twitter?</td>\n",
       "      <td>A Data Analysis of the 2020 Democratic Candida...</td>\n",
       "      <td>9.png</td>\n",
       "      <td>188</td>\n",
       "      <td>3</td>\n",
       "      <td>8</td>\n",
       "      <td>Towards Data Science</td>\n",
       "      <td>2019-05-30</td>\n",
       "    </tr>\n",
       "    <tr>\n",
       "      <th>9</th>\n",
       "      <td>10</td>\n",
       "      <td>https://towardsdatascience.com/what-if-ai-mode...</td>\n",
       "      <td>What if AI model understanding were easy?</td>\n",
       "      <td>See  analytics-for-AI in action in this What-I...</td>\n",
       "      <td>10.jpg</td>\n",
       "      <td>493</td>\n",
       "      <td>2</td>\n",
       "      <td>8</td>\n",
       "      <td>Towards Data Science</td>\n",
       "      <td>2019-05-30</td>\n",
       "    </tr>\n",
       "  </tbody>\n",
       "</table>\n",
       "</div>"
      ],
      "text/plain": [
       "   id                                                url  \\\n",
       "0   1  https://towardsdatascience.com/a-beginners-gui...   \n",
       "1   2  https://towardsdatascience.com/hands-on-graph-...   \n",
       "2   3  https://towardsdatascience.com/how-to-use-ggpl...   \n",
       "3   4  https://towardsdatascience.com/databricks-how-...   \n",
       "4   5  https://towardsdatascience.com/a-step-by-step-...   \n",
       "5   6  https://towardsdatascience.com/an-easy-introdu...   \n",
       "6   7  https://towardsdatascience.com/hypothesis-test...   \n",
       "7   8  https://towardsdatascience.com/introduction-to...   \n",
       "8   9  https://towardsdatascience.com/which-2020-cand...   \n",
       "9  10  https://towardsdatascience.com/what-if-ai-mode...   \n",
       "\n",
       "                                               title  \\\n",
       "0  A Beginner’s Guide to Word Embedding with Gens...   \n",
       "1  Hands-on Graph Neural Networks with PyTorch & ...   \n",
       "2                       How to Use ggplot2 in Python   \n",
       "3  Databricks: How to Save Files in CSV on Your L...   \n",
       "4  A Step-by-Step Implementation of Gradient Desc...   \n",
       "5    An Easy Introduction to SQL for Data Scientists   \n",
       "6                      Hypothesis testing visualized   \n",
       "7  Introduction to Latent Matrix Factorization Re...   \n",
       "8       Which 2020 Candidate is the Best at Twitter?   \n",
       "9          What if AI model understanding were easy?   \n",
       "\n",
       "                                            subtitle   image  claps responses  \\\n",
       "0                                                NaN   1.png    850         8   \n",
       "1                                                NaN   2.png   1100        11   \n",
       "2                   A Grammar of Graphics for Python   3.png    767         1   \n",
       "3            When I work on Python projects dealing…  4.jpeg    354         0   \n",
       "4                    One example of building neural…  5.jpeg    211         3   \n",
       "5                                                NaN  6.jpeg    563         1   \n",
       "6               Literally seeing how stat tests work   7.gif    276         1   \n",
       "7                                                NaN   8.png    126         2   \n",
       "8  A Data Analysis of the 2020 Democratic Candida...   9.png    188         3   \n",
       "9  See  analytics-for-AI in action in this What-I...  10.jpg    493         2   \n",
       "\n",
       "   reading_time           publication        date  \n",
       "0             8  Towards Data Science  2019-05-30  \n",
       "1             9  Towards Data Science  2019-05-30  \n",
       "2             5  Towards Data Science  2019-05-30  \n",
       "3             4  Towards Data Science  2019-05-30  \n",
       "4             4  Towards Data Science  2019-05-30  \n",
       "5             8  Towards Data Science  2019-05-30  \n",
       "6            12  Towards Data Science  2019-05-30  \n",
       "7             5  Towards Data Science  2019-05-30  \n",
       "8             8  Towards Data Science  2019-05-30  \n",
       "9             8  Towards Data Science  2019-05-30  "
      ]
     },
     "execution_count": 4,
     "metadata": {},
     "output_type": "execute_result"
    }
   ],
   "source": [
    "import pandas as pd\n",
    "import numpy as np\n",
    "data = pd.read_csv('medium_data.csv')\n",
    "data.head(10)"
   ]
  },
  {
   "cell_type": "code",
   "execution_count": 5,
   "id": "c9455e7b-9c14-467c-9045-e6bbeba46eb1",
   "metadata": {},
   "outputs": [
    {
     "data": {
      "text/html": [
       "<div>\n",
       "<style scoped>\n",
       "    .dataframe tbody tr th:only-of-type {\n",
       "        vertical-align: middle;\n",
       "    }\n",
       "\n",
       "    .dataframe tbody tr th {\n",
       "        vertical-align: top;\n",
       "    }\n",
       "\n",
       "    .dataframe thead th {\n",
       "        text-align: right;\n",
       "    }\n",
       "</style>\n",
       "<table border=\"1\" class=\"dataframe\">\n",
       "  <thead>\n",
       "    <tr style=\"text-align: right;\">\n",
       "      <th></th>\n",
       "      <th>id</th>\n",
       "      <th>title</th>\n",
       "      <th>subtitle</th>\n",
       "    </tr>\n",
       "  </thead>\n",
       "  <tbody>\n",
       "    <tr>\n",
       "      <th>2</th>\n",
       "      <td>3</td>\n",
       "      <td>How to Use ggplot2 in Python</td>\n",
       "      <td>A Grammar of Graphics for Python</td>\n",
       "    </tr>\n",
       "  </tbody>\n",
       "</table>\n",
       "</div>"
      ],
      "text/plain": [
       "   id                         title                          subtitle\n",
       "2   3  How to Use ggplot2 in Python  A Grammar of Graphics for Python"
      ]
     },
     "execution_count": 5,
     "metadata": {},
     "output_type": "execute_result"
    }
   ],
   "source": [
    "df=data[['id','title','subtitle']]\n",
    "df.loc[df['subtitle']=='A Grammar of Graphics for Python']"
   ]
  },
  {
   "cell_type": "code",
   "execution_count": 6,
   "id": "90c0abc1-9a3d-4640-a010-23d1b9465e1c",
   "metadata": {},
   "outputs": [
    {
     "data": {
      "text/html": [
       "<div>\n",
       "<style scoped>\n",
       "    .dataframe tbody tr th:only-of-type {\n",
       "        vertical-align: middle;\n",
       "    }\n",
       "\n",
       "    .dataframe tbody tr th {\n",
       "        vertical-align: top;\n",
       "    }\n",
       "\n",
       "    .dataframe thead th {\n",
       "        text-align: right;\n",
       "    }\n",
       "</style>\n",
       "<table border=\"1\" class=\"dataframe\">\n",
       "  <thead>\n",
       "    <tr style=\"text-align: right;\">\n",
       "      <th></th>\n",
       "      <th>id</th>\n",
       "      <th>title</th>\n",
       "      <th>subtitle</th>\n",
       "    </tr>\n",
       "  </thead>\n",
       "  <tbody>\n",
       "    <tr>\n",
       "      <th>0</th>\n",
       "      <td>1</td>\n",
       "      <td>A Beginner’s Guide to Word Embedding with Gens...</td>\n",
       "      <td>NaN</td>\n",
       "    </tr>\n",
       "    <tr>\n",
       "      <th>1</th>\n",
       "      <td>2</td>\n",
       "      <td>Hands-on Graph Neural Networks with PyTorch &amp; ...</td>\n",
       "      <td>NaN</td>\n",
       "    </tr>\n",
       "    <tr>\n",
       "      <th>2</th>\n",
       "      <td>3</td>\n",
       "      <td>How to Use ggplot2 in Python</td>\n",
       "      <td>A Grammar of Graphics for Python</td>\n",
       "    </tr>\n",
       "    <tr>\n",
       "      <th>3</th>\n",
       "      <td>4</td>\n",
       "      <td>Databricks: How to Save Files in CSV on Your L...</td>\n",
       "      <td>When I work on Python projects dealing…</td>\n",
       "    </tr>\n",
       "    <tr>\n",
       "      <th>4</th>\n",
       "      <td>5</td>\n",
       "      <td>A Step-by-Step Implementation of Gradient Desc...</td>\n",
       "      <td>One example of building neural…</td>\n",
       "    </tr>\n",
       "    <tr>\n",
       "      <th>...</th>\n",
       "      <td>...</td>\n",
       "      <td>...</td>\n",
       "      <td>...</td>\n",
       "    </tr>\n",
       "    <tr>\n",
       "      <th>6503</th>\n",
       "      <td>6504</td>\n",
       "      <td>“We” vs “I” — How Should You Talk About Yourse...</td>\n",
       "      <td>Basic copywriting choices with a big…</td>\n",
       "    </tr>\n",
       "    <tr>\n",
       "      <th>6504</th>\n",
       "      <td>6505</td>\n",
       "      <td>How Donald Trump Markets Himself</td>\n",
       "      <td>Lessons from who might be the most popular bra...</td>\n",
       "    </tr>\n",
       "    <tr>\n",
       "      <th>6505</th>\n",
       "      <td>6506</td>\n",
       "      <td>Content and Marketing Beyond Mass Consumption</td>\n",
       "      <td>How to acquire customers without wasting money...</td>\n",
       "    </tr>\n",
       "    <tr>\n",
       "      <th>6506</th>\n",
       "      <td>6507</td>\n",
       "      <td>5 Questions All Copywriters Should Ask Clients...</td>\n",
       "      <td>Save time and effort by…</td>\n",
       "    </tr>\n",
       "    <tr>\n",
       "      <th>6507</th>\n",
       "      <td>6508</td>\n",
       "      <td>How To Write a Good Business Blog Post</td>\n",
       "      <td>An A-to-Z guide for non-writers</td>\n",
       "    </tr>\n",
       "  </tbody>\n",
       "</table>\n",
       "<p>6508 rows × 3 columns</p>\n",
       "</div>"
      ],
      "text/plain": [
       "        id                                              title  \\\n",
       "0        1  A Beginner’s Guide to Word Embedding with Gens...   \n",
       "1        2  Hands-on Graph Neural Networks with PyTorch & ...   \n",
       "2        3                       How to Use ggplot2 in Python   \n",
       "3        4  Databricks: How to Save Files in CSV on Your L...   \n",
       "4        5  A Step-by-Step Implementation of Gradient Desc...   \n",
       "...    ...                                                ...   \n",
       "6503  6504  “We” vs “I” — How Should You Talk About Yourse...   \n",
       "6504  6505                   How Donald Trump Markets Himself   \n",
       "6505  6506      Content and Marketing Beyond Mass Consumption   \n",
       "6506  6507  5 Questions All Copywriters Should Ask Clients...   \n",
       "6507  6508             How To Write a Good Business Blog Post   \n",
       "\n",
       "                                               subtitle  \n",
       "0                                                   NaN  \n",
       "1                                                   NaN  \n",
       "2                      A Grammar of Graphics for Python  \n",
       "3               When I work on Python projects dealing…  \n",
       "4                       One example of building neural…  \n",
       "...                                                 ...  \n",
       "6503              Basic copywriting choices with a big…  \n",
       "6504  Lessons from who might be the most popular bra...  \n",
       "6505  How to acquire customers without wasting money...  \n",
       "6506                           Save time and effort by…  \n",
       "6507                    An A-to-Z guide for non-writers  \n",
       "\n",
       "[6508 rows x 3 columns]"
      ]
     },
     "execution_count": 6,
     "metadata": {},
     "output_type": "execute_result"
    }
   ],
   "source": [
    "df"
   ]
  },
  {
   "cell_type": "code",
   "execution_count": 7,
   "id": "7a355399-a9ca-4092-8520-b09dde06870d",
   "metadata": {},
   "outputs": [],
   "source": [
    "sentences = ['Author writes on Medium', 'Readers reads and writes comment on Medium', 'Viewers appreciates author']\n",
    "df_ohe = pd.DataFrame({\"text\":sentences, \"output\":[1,1,0]})"
   ]
  },
  {
   "cell_type": "code",
   "execution_count": 8,
   "id": "8b4a7805-acd6-449e-9aa4-cd1520a0ae3e",
   "metadata": {},
   "outputs": [
    {
     "data": {
      "text/html": [
       "<div>\n",
       "<style scoped>\n",
       "    .dataframe tbody tr th:only-of-type {\n",
       "        vertical-align: middle;\n",
       "    }\n",
       "\n",
       "    .dataframe tbody tr th {\n",
       "        vertical-align: top;\n",
       "    }\n",
       "\n",
       "    .dataframe thead th {\n",
       "        text-align: right;\n",
       "    }\n",
       "</style>\n",
       "<table border=\"1\" class=\"dataframe\">\n",
       "  <thead>\n",
       "    <tr style=\"text-align: right;\">\n",
       "      <th></th>\n",
       "      <th>text</th>\n",
       "      <th>output</th>\n",
       "    </tr>\n",
       "  </thead>\n",
       "  <tbody>\n",
       "    <tr>\n",
       "      <th>0</th>\n",
       "      <td>Author writes on Medium</td>\n",
       "      <td>1</td>\n",
       "    </tr>\n",
       "    <tr>\n",
       "      <th>1</th>\n",
       "      <td>Readers reads and writes comment on Medium</td>\n",
       "      <td>1</td>\n",
       "    </tr>\n",
       "    <tr>\n",
       "      <th>2</th>\n",
       "      <td>Viewers appreciates author</td>\n",
       "      <td>0</td>\n",
       "    </tr>\n",
       "  </tbody>\n",
       "</table>\n",
       "</div>"
      ],
      "text/plain": [
       "                                         text  output\n",
       "0                     Author writes on Medium       1\n",
       "1  Readers reads and writes comment on Medium       1\n",
       "2                  Viewers appreciates author       0"
      ]
     },
     "execution_count": 8,
     "metadata": {},
     "output_type": "execute_result"
    }
   ],
   "source": [
    "df_ohe"
   ]
  },
  {
   "cell_type": "markdown",
   "id": "5e9844d9-785a-4df8-82fb-a376c1741241",
   "metadata": {},
   "source": [
    "### ONE HOT ENCODING\n",
    "#### One hot encoding means converting words of your document in a V-dimension vector and by combining all this we get a single document so at the end we have a two-dimensional array\n",
    "\n",
    "#### Disadvantages\n",
    "\n",
    "1) Sparsity – You can see that only a single sentence creates a vector of n*m size where n is the length of sentence m is a number of unique words in a document and 80 percent of values in a vector is zero.\n",
    "\n",
    "2) No fixed Size – Each document is of a different length which creates vectors of different sizes and cannot feed to the model.\n",
    "\n",
    "3) Does not capture semantics – The core idea is we have to convert text into numbers by keeping in mind that the actual meaning of a sentence should be observed in numbers that are not seen in one-hot encoding."
   ]
  },
  {
   "cell_type": "code",
   "execution_count": 9,
   "id": "9423b71c-1b99-4321-9d0f-bf2d1aca8f47",
   "metadata": {},
   "outputs": [
    {
     "name": "stdout",
     "output_type": "stream",
     "text": [
      "[[1. 0. 0.]\n",
      " [0. 1. 0.]\n",
      " [0. 0. 1.]]\n",
      "[array(['Author writes on Medium',\n",
      "       'Readers reads and writes comment on Medium',\n",
      "       'Viewers appreciates author'], dtype=object)]\n"
     ]
    }
   ],
   "source": [
    "from sklearn.preprocessing import OneHotEncoder\n",
    "ohe = OneHotEncoder(\n",
    "    categories='auto',  # Categories per feature\n",
    "    drop=None, # Whether to drop one of the features\n",
    "    sparse=True, # Will return sparse matrix if set True\n",
    "    handle_unknown='error' # Whether to raise an error\n",
    ") \n",
    "transformed = ohe.fit_transform(df_ohe[['text']])\n",
    "print(transformed.toarray())\n",
    "print(ohe.categories_)"
   ]
  },
  {
   "cell_type": "code",
   "execution_count": 10,
   "id": "929b59e7-f06d-4552-a4c8-d575b751f06e",
   "metadata": {},
   "outputs": [],
   "source": [
    "transformed_med=ohe.fit_transform(df[['title']])"
   ]
  },
  {
   "cell_type": "code",
   "execution_count": 11,
   "id": "8925e05a-fa0c-4e53-8267-208d0e77c8cb",
   "metadata": {},
   "outputs": [
    {
     "name": "stdout",
     "output_type": "stream",
     "text": [
      "[[0. 0. 0. ... 0. 0. 0.]\n",
      " [0. 0. 0. ... 0. 0. 0.]\n",
      " [0. 0. 0. ... 0. 0. 0.]\n",
      " ...\n",
      " [0. 0. 0. ... 0. 0. 0.]\n",
      " [0. 0. 0. ... 0. 0. 0.]\n",
      " [0. 0. 0. ... 0. 0. 0.]]\n"
     ]
    }
   ],
   "source": [
    "print(transformed_med.toarray())"
   ]
  },
  {
   "cell_type": "markdown",
   "id": "367046ca-a08b-4fcb-b7eb-329b898297f1",
   "metadata": {},
   "source": [
    "### BAG OF WORDS\n",
    "#### It is one of the most used text vectorization techniques. It is mostly used in text classification tasks. Bag of words is a little bit similar to one-hot encoding where we enter each word as a binary value and in a Bag of words we keep a single row and entry the count of words in a document. So we create a vocabulary and for a single document, we enter one entry of which words occur how many times in a document.\n",
    "\n",
    "Advantages\n",
    "\n",
    "1) Simple and intuitive – Only a few lines of code are required to implement the technique.\n",
    "\n",
    "2) Fix size vector – The problem which we saw in one-hot encoding where we are unable to feed data the data to machine learning model because each sentence forms a different size vector but here It ignores the new words and takes only words which are vocabulary so creates a vector of fix size.\n",
    "\n",
    "Disadvantages\n",
    "\n",
    "1) Out of vocabulary situation – It keeps count of vocabulary words so if new words come in a sentence it simply ignores it and tracks the count of the words that are in vocabulary. But what if the words it ignores are important in predicting the outcome so this is a disadvantage, only benefit is it does not throw an error.\n",
    "\n",
    "2) Sparsity – when we have a large vocabulary, and the document contains a few repeated terms then it creates a sparse array.\n",
    "\n",
    "3) Not considering ordering is an issue – It is difficult to estimate the semantics of the document."
   ]
  },
  {
   "cell_type": "code",
   "execution_count": 12,
   "id": "1da9ffc2-f96e-457f-82aa-ae608384f769",
   "metadata": {},
   "outputs": [],
   "source": [
    "from sklearn.feature_extraction.text import CountVectorizer\n",
    "cv = CountVectorizer()\n",
    "bow = cv.fit_transform(df['title'])"
   ]
  },
  {
   "cell_type": "code",
   "execution_count": 13,
   "id": "a0773b5a-6e49-47a3-a509-9fca79be27cc",
   "metadata": {},
   "outputs": [
    {
     "data": {
      "text/plain": [
       "\"{'beginner': 749, 'guide': 3117, 'to': 7053, 'word': 7666, 'embedding': 2312}\""
      ]
     },
     "execution_count": 13,
     "metadata": {},
     "output_type": "execute_result"
    }
   ],
   "source": [
    "str(dict(list(cv.vocabulary_.items())[0: 5]))"
   ]
  },
  {
   "cell_type": "code",
   "execution_count": 14,
   "id": "1c7100a3-c374-468b-921a-a7be9bfade91",
   "metadata": {},
   "outputs": [
    {
     "name": "stdout",
     "output_type": "stream",
     "text": [
      "[[0 0 0 ... 0 0 0]]\n"
     ]
    }
   ],
   "source": [
    "print(bow[0].toarray())"
   ]
  },
  {
   "cell_type": "markdown",
   "id": "9a14bbba-972f-472d-9654-097c22847288",
   "metadata": {},
   "source": [
    "### using nltk and spacy \n",
    "## data processsing function"
   ]
  },
  {
   "cell_type": "code",
   "execution_count": 25,
   "id": "2bccd44e-e548-469f-a2bf-288490d42494",
   "metadata": {},
   "outputs": [
    {
     "name": "stderr",
     "output_type": "stream",
     "text": [
      "[nltk_data] Downloading package omw-1.4 to\n",
      "[nltk_data]     C:\\Users\\Admin\\AppData\\Roaming\\nltk_data...\n"
     ]
    }
   ],
   "source": [
    "import nltk\n",
    "nltk.download('omw-1.4')\n",
    "from nltk.corpus import stopwords\n",
    "from nltk.stem import WordNetLemmatizer\n",
    "import unicodedata\n",
    "import re\n",
    "STOPWORDS = stopwords.words('english')\n",
    "lemmatizer = WordNetLemmatizer()\n",
    "\n",
    "def process_text(text):\n",
    "    text = unicodedata.normalize('NFKD', text).encode('ascii', 'ignore').decode('utf-8', 'ignore')\n",
    "    text = re.sub(r'[^a-zA-Z\\s]', '', text)\n",
    "    #text = text.translate(str.maketrans('', '', string.punctuation))\n",
    "    text = text.lower()\n",
    "    text = \" \".join([word for word in str(text).split() if word not in STOPWORDS])\n",
    "    text = \" \".join([lemmatizer.lemmatize(word) for word in text.split()])\n",
    "    return text"
   ]
  },
  {
   "cell_type": "markdown",
   "id": "b1d06b65-8d61-4244-9b48-05e4a006ccb9",
   "metadata": {},
   "source": [
    "### Defining and Processing the Corpus"
   ]
  },
  {
   "cell_type": "code",
   "execution_count": 26,
   "id": "39984cc8-ed85-4cea-ade5-77f04fd10f48",
   "metadata": {},
   "outputs": [
    {
     "name": "stdout",
     "output_type": "stream",
     "text": [
      "['A Beginner’s Guide to Word Embedding with Gensim Word2Vec\\xa0Model', 'Hands-on Graph Neural Networks with PyTorch & PyTorch Geometric', 'How to Use ggplot2 in\\xa0Python', 'Databricks: How to Save Files in CSV on Your Local\\xa0Computer', 'A Step-by-Step Implementation of Gradient Descent and Backpropagation', 'An Easy Introduction to SQL for Data Scientists', 'Hypothesis testing visualized', 'Introduction to Latent Matrix Factorization Recommender Systems', 'Which 2020 Candidate is the Best at\\xa0Twitter?', 'What if AI model understanding were\\xa0easy?', '<em class=\"markup--em markup--h3-em\">What I Learned from (Two-time) Kaggle Grandmaster Abhishek\\xa0Thakur</em>', 'Making a DotA2 Bot Using\\xa0ML', 'Building A ‘Serverless’ Chrome Extension', 'How to Teach\\xa0Code', 'Reinventing Personalization For Customer Experience', 'How to Automate Hyperparameter Optimization', 'Ideas: Design Methodologies for Data\\xa0Sprints', 'RoboSomm Chapter 3: Wine Embeddings and a Wine Recommender', 'Data Science Interview Questions', 'Faster Training for Efficient CNNs', 'Buyers beware, fake product reviews are plaguing the internet. How Machine Learning can help to spot\\xa0them.', 'Objects of Desire: 40 gigabytes of 4chan/pol, r/Braincels, and r/TheRedPill', '<strong class=\"markup--strong markup--h3-strong\">How data management practice enables a successful implementation of single customer\\xa0view?</strong>', '<strong class=\"markup--strong markup--h3-strong\">White on black or black on white? The pros and cons of Dark\\xa0Mode</strong>', 'UX for social change: a 5-step app design\\xa0approach', '“Music is an experience, not a science.”\\u200a—\\u200aa UX case\\xa0study', 'Starting in UX after\\xa040', 'Some proposed color heuristics', 'What game is your company\\xa0playing?', 'Experiences that delight: how we emotionally engage with\\xa0design', 'How I learned to be more human at one of Silicon Valley’s greatest Customer Success\\xa0event', 'Reflection point: usability, accessibility, and ethics in\\xa0UX', 'Building high-quality hypotheses for better design decisions', 'Creating a customer-obsessed design\\xa0culture', '3 tips for successful UX\\xa0Research', 'Are users’ preferences about privacy relevant?', 'I just shut down my startup. Here’s what I\\xa0learned.', 'Developers\\u200a—\\u200ahere is the most convincing reason for quitting your 9–5\\xa0job', 'How To Retain More From The Books You\\xa0Read', 'Android MVI with Jetpack\\xa0Compose', 'Structuring a NodeJS API in an efficient way', 'Living as an Empath\\u200a—\\u200aw', 'Implementing a hexagonal architecture', 'Don’t Wait Until 70 To Retire. Here’s\\xa0Why.', 'Fun with Text to Image in\\xa0Android', 'Arrays in JavaScript', 'Will translators still have a job in 5\\xa0years?', 'Where, When, and How to Submit Your\\xa0Writing', '6 Ways to Increase Your Engagement Rate on Instagram', 'Three Ways Great Leaders Show They Care About Their\\xa0Team']\n",
      "['beginner guide word embedding gensim wordvec model'\n",
      " 'handson graph neural network pytorch pytorch geometric'\n",
      " 'use ggplot python' 'databricks save file csv local computer'\n",
      " 'stepbystep implementation gradient descent backpropagation'\n",
      " 'easy introduction sql data scientist' 'hypothesis testing visualized'\n",
      " 'introduction latent matrix factorization recommender system'\n",
      " 'candidate best twitter' 'ai model understanding easy'\n",
      " 'em classmarkupem markuphemwhat learned twotime kaggle grandmaster abhishek thakurem'\n",
      " 'making dota bot using ml' 'building serverless chrome extension'\n",
      " 'teach code' 'reinventing personalization customer experience'\n",
      " 'automate hyperparameter optimization'\n",
      " 'idea design methodology data sprint'\n",
      " 'robosomm chapter wine embeddings wine recommender'\n",
      " 'data science interview question' 'faster training efficient cnns'\n",
      " 'buyer beware fake product review plaguing internet machine learning help spot'\n",
      " 'object desire gigabyte chanpol rbraincels rtheredpill'\n",
      " 'strong classmarkupstrong markuphstronghow data management practice enables successful implementation single customer viewstrong'\n",
      " 'strong classmarkupstrong markuphstrongwhite black black white pro con dark modestrong'\n",
      " 'ux social change step app design approach'\n",
      " 'music experience science ux case study' 'starting ux'\n",
      " 'proposed color heuristic' 'game company playing'\n",
      " 'experience delight emotionally engage design'\n",
      " 'learned human one silicon valley greatest customer success event'\n",
      " 'reflection point usability accessibility ethic ux'\n",
      " 'building highquality hypothesis better design decision'\n",
      " 'creating customerobsessed design culture' 'tip successful ux research'\n",
      " 'user preference privacy relevant' 'shut startup here learned'\n",
      " 'developer convincing reason quitting job' 'retain book read'\n",
      " 'android mvi jetpack compose' 'structuring nodejs api efficient way'\n",
      " 'living empath w' 'implementing hexagonal architecture'\n",
      " 'dont wait retire here' 'fun text image android' 'array javascript'\n",
      " 'translator still job year' 'submit writing'\n",
      " 'way increase engagement rate instagram'\n",
      " 'three way great leader show care team']\n"
     ]
    }
   ],
   "source": [
    "data_sentences = df['title'].to_list()\n",
    "corpus = data_sentences[:50]\n",
    "print(corpus)\n",
    "process_corpus = np.vectorize(process_text)\n",
    "processed_corpus = process_corpus(corpus)\n",
    "print(processed_corpus)"
   ]
  },
  {
   "cell_type": "code",
   "execution_count": 30,
   "id": "d85b46e5-568c-40be-8d32-40078da9aea7",
   "metadata": {},
   "outputs": [
    {
     "name": "stdout",
     "output_type": "stream",
     "text": [
      "[[0 0 0 ... 1 0 0]\n",
      " [0 0 0 ... 0 0 0]\n",
      " [0 0 0 ... 0 0 0]\n",
      " ...\n",
      " [0 0 0 ... 0 1 0]\n",
      " [0 0 0 ... 0 0 0]\n",
      " [0 0 0 ... 0 0 0]]\n"
     ]
    }
   ],
   "source": [
    "count_vect = CountVectorizer(min_df = 0., max_df = 1.)\n",
    "matrix = count_vect.fit_transform(processed_corpus)\n",
    "matrix.toarray()\n",
    "print(matrix.toarray())"
   ]
  }
 ],
 "metadata": {
  "kernelspec": {
   "display_name": "Python 3 (ipykernel)",
   "language": "python",
   "name": "python3"
  },
  "language_info": {
   "codemirror_mode": {
    "name": "ipython",
    "version": 3
   },
   "file_extension": ".py",
   "mimetype": "text/x-python",
   "name": "python",
   "nbconvert_exporter": "python",
   "pygments_lexer": "ipython3",
   "version": "3.9.13"
  }
 },
 "nbformat": 4,
 "nbformat_minor": 5
}
